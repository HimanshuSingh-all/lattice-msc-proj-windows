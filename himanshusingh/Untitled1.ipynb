{
 "cells": [
  {
   "cell_type": "markdown",
   "id": "c5a5d242",
   "metadata": {},
   "source": [
    "* # <u> Motivation Behind the Project </u>\n",
    "In this highly energy reliant world,  \n",
    "\n",
    "* # <u> Sampling </u>\n",
    "\n",
    "* # <u> Monte Carlo Simulation </u>\n",
    "\n",
    "    * # <u> Metropolis Algorithm </u>\n",
    "\n",
    "  \n",
    "  * # <u> Initial Setup </u>\n",
    "\n",
    "    * # <u> Why Use Periodic Boundary Conditions? </u>\n",
    "    *\n",
    "\n",
    "\n",
    "* # <u>Two Competing Processes with Creation of Vacancies</u>\n",
    "  * #### <u> Lesser \"Collision\" Situations During Hopping of Ion </u> \n",
    "\n",
    "  * #### <u> Increase of Site Energies </u> \n",
    "  \n",
    "  \n",
    "![Site Energy](zplots/image2.png)\n",
    "\n",
    "\n",
    "\n",
    "\n",
    "\n",
    "\n",
    "\n",
    "  ( C:\\YSZ-Monte-Carlo\\himanshusingh\\plots\\image2.png)\n",
    "\n",
    "\n",
    "\n",
    "C:/YSZ-Monte-Carlo/himanshusingh/plots/image2.png\n",
    "\n",
    "\n"
   ]
  },
  {
   "cell_type": "markdown",
   "id": "22773d82",
   "metadata": {},
   "source": []
  },
  {
   "cell_type": "markdown",
   "id": "03ddd45d",
   "metadata": {},
   "source": [
    "* # <u> Initial Setup </u>\n",
    "\n",
    "    * # <u> Why Use Periodic Boundary Conditions? </u>\n",
    "    *\n"
   ]
  },
  {
   "cell_type": "markdown",
   "id": "f5d619a9",
   "metadata": {},
   "source": []
  },
  {
   "cell_type": "code",
   "execution_count": null,
   "id": "39e1f9d3",
   "metadata": {},
   "outputs": [],
   "source": []
  }
 ],
 "metadata": {
  "kernelspec": {
   "display_name": "Python 3 (ipykernel)",
   "language": "python",
   "name": "python3"
  },
  "language_info": {
   "codemirror_mode": {
    "name": "ipython",
    "version": 3
   },
   "file_extension": ".py",
   "mimetype": "text/x-python",
   "name": "python",
   "nbconvert_exporter": "python",
   "pygments_lexer": "ipython3",
   "version": "3.10.5"
  }
 },
 "nbformat": 4,
 "nbformat_minor": 5
}
