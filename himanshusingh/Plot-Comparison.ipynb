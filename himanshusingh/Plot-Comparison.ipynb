{
 "cells": [
  {
   "cell_type": "markdown",
   "id": "a6d6e23b",
   "metadata": {},
   "source": [
    "# Simrun- 6"
   ]
  },
  {
   "cell_type": "code",
   "execution_count": 3,
   "id": "047b4474",
   "metadata": {},
   "outputs": [],
   "source": [
    "import numpy as np\n",
    "from datetime import date\n",
    "np.random.seed(0)\n",
    "import glob\n",
    "from PARSER_MSD import ensemble_sqavg,getnparray ,getrunparams, time_msd \n",
    "import matplotlib.pyplot as plt\n",
    "import numpy as np\n",
    "from scipy import stats "
   ]
  },
  {
   "cell_type": "code",
   "execution_count": 4,
   "id": "06112ca6",
   "metadata": {},
   "outputs": [],
   "source": [
    "class ion:\n",
    "    def __init__(self,i:int,pos:tuple):\n",
    "        self.i=i        #assign an index to the ion\n",
    "        self.pos=pos    #pos (y,x) of the ion in the space (which will be later mapped on the lattice)\n",
    "        self.init=pos   #init position of ion in space \n",
    "\n",
    "\n",
    "\n",
    "class lat_2d:\n",
    "\n",
    "    def __init__(self,N:int,coverage:float,epsilon:float):\n",
    "        if coverage>1:\n",
    "            print(\"Coverage Cannot be greater than 1\")\n",
    "            raise ValueError\n",
    "        self.N=N\n",
    "        self.epsilon=epsilon\n",
    "        self.cov=coverage\n",
    "        self.ions=list()        \n",
    "\n",
    "    def get_lattice_2d(self):\n",
    "        A=np.array([(i,j) for i in range(self.N) for j in range(self.N)])\n",
    "        B=np.arange(0,self.N**2)\n",
    "        ionc=list()                                                             #contains the intial position of all the occupying lattice ions\n",
    "        choice=np.random.choice(B,int(self.cov*self.N*self.N),replace=False)\n",
    "        lattice=np.zeros((self.N,self.N))\n",
    "        for b in choice:\n",
    "            lattice[ tuple(A[b]) ]=1 \n",
    "            ionc.append(tuple(A[b]))    \n",
    "        return (lattice, ionc)\n",
    "\n",
    "    def get_energy_2d(self,sites):\n",
    "        print(sites)\n",
    "        A=np.array([(i,j) for i in range(self.N) for j in range(self.N)])\n",
    "        B=np.arange(0,self.N**2)\n",
    "        ionc=list()                                                             #contains the intial position of all the occupying lattice ions\n",
    "        choice=np.random.choice(B,int(sites))#self.cov*self.N*self.N\n",
    "        lattice=np.zeros((self.N,self.N))\n",
    "        for b in choice:\n",
    "            lattice[ tuple(A[b]) ]+=self.epsilon \n",
    "        \n",
    "        return lattice\n",
    "\n",
    "    def init_lattice(self):\n",
    "        self.lattice,self.ionpos=self.get_lattice_2d()\n",
    "        for i,posn in enumerate(self.ionpos):\n",
    "            self.ions.append(ion(i,posn))\n",
    "    \n",
    "    def init_energylattice(self):\n",
    "        \n",
    "        self.enlattice=self.get_energy_2d(2*(100-self.cov*100)*(self.N**2)/100)\n",
    "        \n",
    "    def mappostolat(self,s,i:int):\n",
    "        \"\"\"\n",
    "        Args:\n",
    "        s(2-D numpy vector): the random next step (coordination number 4)\n",
    "        Returns:\n",
    "        i(int): index of the ion lattice ion\n",
    "        2-tuple of indices for the mapped position of ion onto the lattice if that step is taken\n",
    "        \"\"\"\n",
    "        if s is None:\n",
    "            s=np.array((0,0))\n",
    "        nextstep=np.array(self.ions[i].pos)+s\n",
    "        return tuple(nextstep%self.N)\n",
    "        \n",
    "\n",
    "    def oneionstep(self,i):\n",
    "        \n",
    "        MOVES=[(1,0),(0,1),(-1,0),(0,-1)]\n",
    "        s=np.array(MOVES[np.random.choice([0,1,2,3])]) # s is an array but class.pos is a tuple, so we add them by converting pos into ndarray and then revert it back to tuple\n",
    "       # print(\"U: \",s, i)\n",
    "        \n",
    "        \n",
    "        latposn=self.mappostolat(s,i)\n",
    "        delU=self.enlattice[latposn]-self.enlattice[self.mappostolat(None,i)]\n",
    "        \"\"\"TODO Apply the energy lattice condition \"\"\"\n",
    "        rnd=np.random.uniform(0,1)\n",
    "        prob=np.exp(-delU)\n",
    "        if self.lattice[latposn]!=1 and prob>rnd: #if there is no ion in the step chosen\n",
    "            self.lattice[self.mappostolat(None,i)]=0 #vacate teh current position in the lattice   \n",
    "            self.ions[i].pos=tuple(np.array(self.ions[i].pos)+s) #update the ion position\n",
    "            self.lattice[latposn]=1 #update the new filled position\n",
    "        return None\n",
    "\n",
    "    def onemcstep(self):\n",
    "        if len(self.ions)!=0:\n",
    "            [self.oneionstep(i) for i in range(len(self.ions))]\n",
    "        else:\n",
    "            self.init_lattice()\n",
    "            self.onemcstep()\n",
    "      \n",
    "    def sqdisp(self):\n",
    "        disp=np.zeros_like(self.ions)\n",
    "        for i,io in enumerate(self.ions):\n",
    "            disp[i]=np.linalg.norm((np.array(io.pos)-np.array(io.init)))**2\n",
    "            #print(\"posn: \",(np.array(io.pos)-np.array(io.init)),\":\",np.linalg.norm((np.array(io.pos)-np.array(io.init))))\n",
    "        return disp\n",
    "\n"
   ]
  },
  {
   "cell_type": "code",
   "execution_count": null,
   "id": "95506653",
   "metadata": {},
   "outputs": [],
   "source": []
  },
  {
   "cell_type": "code",
   "execution_count": 13,
   "id": "e270d34b",
   "metadata": {},
   "outputs": [],
   "source": [
    "\n",
    "write=0\n",
    "N=20\n",
    "NSTEPS=15000\n",
    "WT=100\n",
    "today=date.today()\n",
    "epsilon=2223/1300\n",
    "equilibriation=5000\n",
    "Ns=NSTEPS-equilibriation\n",
    "\n"
   ]
  },
  {
   "cell_type": "code",
   "execution_count": 14,
   "id": "0f136462",
   "metadata": {},
   "outputs": [
    {
     "name": "stdout",
     "output_type": "stream",
     "text": [
      "simdata\\Simrun-6\\Coverage-10-NSTEPS15000-October-13-2022.txt\n",
      "25\n",
      "_______________________\n",
      "10 \n",
      " simdata\\Simrun-6\\Coverage-10-NSTEPS15000-October-13-2022.txt\n",
      "simdata\\Simrun-6\\Coverage-16-NSTEPS15000-October-13-2022.txt\n",
      "25\n",
      "_______________________\n",
      "16 \n",
      " simdata\\Simrun-6\\Coverage-16-NSTEPS15000-October-13-2022.txt\n",
      "simdata\\Simrun-6\\Coverage-17-NSTEPS15000-October-13-2022.txt\n",
      "25\n",
      "_______________________\n",
      "17 \n",
      " simdata\\Simrun-6\\Coverage-17-NSTEPS15000-October-13-2022.txt\n",
      "simdata\\Simrun-6\\Coverage-18-NSTEPS15000-October-13-2022.txt\n",
      "25\n",
      "_______________________\n",
      "18 \n",
      " simdata\\Simrun-6\\Coverage-18-NSTEPS15000-October-13-2022.txt\n",
      "simdata\\Simrun-6\\Coverage-19-NSTEPS15000-October-13-2022.txt\n",
      "25\n",
      "_______________________\n",
      "19 \n",
      " simdata\\Simrun-6\\Coverage-19-NSTEPS15000-October-13-2022.txt\n",
      "simdata\\Simrun-6\\Coverage-20-NSTEPS15000-October-13-2022.txt\n",
      "25\n",
      "_______________________\n",
      "20 \n",
      " simdata\\Simrun-6\\Coverage-20-NSTEPS15000-October-13-2022.txt\n",
      "simdata\\Simrun-6\\Coverage-21-NSTEPS15000-October-13-2022.txt\n",
      "25\n",
      "_______________________\n",
      "21 \n",
      " simdata\\Simrun-6\\Coverage-21-NSTEPS15000-October-13-2022.txt\n",
      "simdata\\Simrun-6\\Coverage-22-NSTEPS15000-October-13-2022.txt\n",
      "25\n",
      "_______________________\n",
      "22 \n",
      " simdata\\Simrun-6\\Coverage-22-NSTEPS15000-October-13-2022.txt\n",
      "simdata\\Simrun-6\\Coverage-23-NSTEPS15000-October-13-2022.txt\n",
      "25\n",
      "_______________________\n",
      "23 \n",
      " simdata\\Simrun-6\\Coverage-23-NSTEPS15000-October-13-2022.txt\n",
      "simdata\\Simrun-6\\Coverage-24-NSTEPS15000-October-13-2022.txt\n",
      "25\n",
      "_______________________\n",
      "24 \n",
      " simdata\\Simrun-6\\Coverage-24-NSTEPS15000-October-13-2022.txt\n",
      "simdata\\Simrun-6\\Coverage-25-NSTEPS15000-October-13-2022.txt\n",
      "25\n",
      "_______________________\n",
      "25 \n",
      " simdata\\Simrun-6\\Coverage-25-NSTEPS15000-October-13-2022.txt\n",
      "simdata\\Simrun-6\\Coverage-26-NSTEPS15000-October-13-2022.txt\n",
      "25\n",
      "_______________________\n",
      "26 \n",
      " simdata\\Simrun-6\\Coverage-26-NSTEPS15000-October-13-2022.txt\n",
      "simdata\\Simrun-6\\Coverage-27-NSTEPS15000-October-13-2022.txt\n",
      "25\n",
      "_______________________\n",
      "27 \n",
      " simdata\\Simrun-6\\Coverage-27-NSTEPS15000-October-13-2022.txt\n",
      "simdata\\Simrun-6\\Coverage-28-NSTEPS15000-October-13-2022.txt\n",
      "25\n",
      "_______________________\n",
      "28 \n",
      " simdata\\Simrun-6\\Coverage-28-NSTEPS15000-October-13-2022.txt\n",
      "simdata\\Simrun-6\\Coverage-29-NSTEPS15000-October-13-2022.txt\n",
      "25\n",
      "_______________________\n",
      "29 \n",
      " simdata\\Simrun-6\\Coverage-29-NSTEPS15000-October-13-2022.txt\n",
      "simdata\\Simrun-6\\Coverage-30-NSTEPS15000-October-13-2022.txt\n",
      "25\n",
      "_______________________\n",
      "30 \n",
      " simdata\\Simrun-6\\Coverage-30-NSTEPS15000-October-13-2022.txt\n",
      "simdata\\Simrun-6\\Coverage-31-NSTEPS15000-October-13-2022.txt\n",
      "25\n",
      "_______________________\n",
      "31 \n",
      " simdata\\Simrun-6\\Coverage-31-NSTEPS15000-October-13-2022.txt\n",
      "simdata\\Simrun-6\\Coverage-40-NSTEPS15000-October-13-2022.txt\n",
      "25\n",
      "_______________________\n",
      "40 \n",
      " simdata\\Simrun-6\\Coverage-40-NSTEPS15000-October-13-2022.txt\n",
      "simdata\\Simrun-6\\Coverage-50-NSTEPS15000-October-13-2022.txt\n",
      "25\n",
      "_______________________\n",
      "50 \n",
      " simdata\\Simrun-6\\Coverage-50-NSTEPS15000-October-13-2022.txt\n",
      "simdata\\Simrun-6\\Coverage-60-NSTEPS15000-October-13-2022.txt\n",
      "25\n",
      "_______________________\n",
      "60 \n",
      " simdata\\Simrun-6\\Coverage-60-NSTEPS15000-October-13-2022.txt\n",
      "simdata\\Simrun-6\\Coverage-70-NSTEPS15000-October-13-2022.txt\n",
      "25\n",
      "_______________________\n",
      "70 \n",
      " simdata\\Simrun-6\\Coverage-70-NSTEPS15000-October-13-2022.txt\n",
      "simdata\\Simrun-6\\Coverage-80-NSTEPS15000-October-13-2022.txt\n",
      "25\n",
      "_______________________\n",
      "80 \n",
      " simdata\\Simrun-6\\Coverage-80-NSTEPS15000-October-13-2022.txt\n",
      "simdata\\Simrun-6\\Coverage-90-NSTEPS15000-October-13-2022.txt\n",
      "25\n",
      "_______________________\n",
      "90 \n",
      " simdata\\Simrun-6\\Coverage-90-NSTEPS15000-October-13-2022.txt\n"
     ]
    }
   ],
   "source": [
    "MSDS_=dict()\n",
    "paramlen=7\n",
    "steps=np.arange(0*100,(Ns//4),wp) \n",
    "for i,dire in enumerate(sorted(glob.glob('simdata\\\\Simrun-6'))):\n",
    "    names=glob.glob(f'{dire}\\\\*.txt')#COVERAGE-*-NSTEPS*-*\n",
    "    for fname in names:\n",
    "        print(fname)\n",
    "        params=getrunparams(fname,paramlen)\n",
    "        narray=getnparray(fname,params,paramlen)\n",
    "        MSDS_[int(float(params['Coverage'].split()[0]))]=np.array(time_msd(narray,fname,paramlen))"
   ]
  },
  {
   "cell_type": "code",
   "execution_count": 16,
   "id": "483eb651",
   "metadata": {},
   "outputs": [
    {
     "name": "stdout",
     "output_type": "stream",
     "text": [
      "664.0\n"
     ]
    },
    {
     "ename": "KeyboardInterrupt",
     "evalue": "",
     "output_type": "error",
     "traceback": [
      "\u001b[1;31m---------------------------------------------------------------------------\u001b[0m",
      "\u001b[1;31mKeyboardInterrupt\u001b[0m                         Traceback (most recent call last)",
      "Input \u001b[1;32mIn [16]\u001b[0m, in \u001b[0;36m<cell line: 4>\u001b[1;34m()\u001b[0m\n\u001b[0;32m     18\u001b[0m fhand\u001b[38;5;241m.\u001b[39mwrite(\u001b[38;5;124mf\u001b[39m\u001b[38;5;124m\"\u001b[39m\u001b[38;5;124mepsilon:\u001b[39m\u001b[38;5;132;01m{\u001b[39;00mepsilon\u001b[38;5;132;01m}\u001b[39;00m\u001b[38;5;124m \u001b[39m\u001b[38;5;130;01m\\n\u001b[39;00m\u001b[38;5;124m\"\u001b[39m)\n\u001b[0;32m     19\u001b[0m \u001b[38;5;28;01mfor\u001b[39;00m i,step \u001b[38;5;129;01min\u001b[39;00m \u001b[38;5;28menumerate\u001b[39m(\u001b[38;5;28mrange\u001b[39m(NSTEPS)):\n\u001b[1;32m---> 20\u001b[0m     \u001b[43mmylat\u001b[49m\u001b[38;5;241;43m.\u001b[39;49m\u001b[43monemcstep\u001b[49m\u001b[43m(\u001b[49m\u001b[43m)\u001b[49m\n\u001b[0;32m     21\u001b[0m     \u001b[38;5;28;01mif\u001b[39;00m i\u001b[38;5;241m%\u001b[39mWT\u001b[38;5;241m==\u001b[39m\u001b[38;5;241m0\u001b[39m \u001b[38;5;129;01mand\u001b[39;00m i\u001b[38;5;241m>\u001b[39mequilibriation:\n\u001b[0;32m     22\u001b[0m         \u001b[38;5;28;01mfor\u001b[39;00m io \u001b[38;5;129;01min\u001b[39;00m mylat\u001b[38;5;241m.\u001b[39mions:\n",
      "Input \u001b[1;32mIn [4]\u001b[0m, in \u001b[0;36mlat_2d.onemcstep\u001b[1;34m(self)\u001b[0m\n\u001b[0;32m     84\u001b[0m \u001b[38;5;28;01mdef\u001b[39;00m \u001b[38;5;21monemcstep\u001b[39m(\u001b[38;5;28mself\u001b[39m):\n\u001b[0;32m     85\u001b[0m     \u001b[38;5;28;01mif\u001b[39;00m \u001b[38;5;28mlen\u001b[39m(\u001b[38;5;28mself\u001b[39m\u001b[38;5;241m.\u001b[39mions)\u001b[38;5;241m!=\u001b[39m\u001b[38;5;241m0\u001b[39m:\n\u001b[1;32m---> 86\u001b[0m         [\u001b[38;5;28mself\u001b[39m\u001b[38;5;241m.\u001b[39moneionstep(i) \u001b[38;5;28;01mfor\u001b[39;00m i \u001b[38;5;129;01min\u001b[39;00m \u001b[38;5;28mrange\u001b[39m(\u001b[38;5;28mlen\u001b[39m(\u001b[38;5;28mself\u001b[39m\u001b[38;5;241m.\u001b[39mions))]\n\u001b[0;32m     87\u001b[0m     \u001b[38;5;28;01melse\u001b[39;00m:\n\u001b[0;32m     88\u001b[0m         \u001b[38;5;28mself\u001b[39m\u001b[38;5;241m.\u001b[39minit_lattice()\n",
      "Input \u001b[1;32mIn [4]\u001b[0m, in \u001b[0;36m<listcomp>\u001b[1;34m(.0)\u001b[0m\n\u001b[0;32m     84\u001b[0m \u001b[38;5;28;01mdef\u001b[39;00m \u001b[38;5;21monemcstep\u001b[39m(\u001b[38;5;28mself\u001b[39m):\n\u001b[0;32m     85\u001b[0m     \u001b[38;5;28;01mif\u001b[39;00m \u001b[38;5;28mlen\u001b[39m(\u001b[38;5;28mself\u001b[39m\u001b[38;5;241m.\u001b[39mions)\u001b[38;5;241m!=\u001b[39m\u001b[38;5;241m0\u001b[39m:\n\u001b[1;32m---> 86\u001b[0m         [\u001b[38;5;28;43mself\u001b[39;49m\u001b[38;5;241;43m.\u001b[39;49m\u001b[43moneionstep\u001b[49m\u001b[43m(\u001b[49m\u001b[43mi\u001b[49m\u001b[43m)\u001b[49m \u001b[38;5;28;01mfor\u001b[39;00m i \u001b[38;5;129;01min\u001b[39;00m \u001b[38;5;28mrange\u001b[39m(\u001b[38;5;28mlen\u001b[39m(\u001b[38;5;28mself\u001b[39m\u001b[38;5;241m.\u001b[39mions))]\n\u001b[0;32m     87\u001b[0m     \u001b[38;5;28;01melse\u001b[39;00m:\n\u001b[0;32m     88\u001b[0m         \u001b[38;5;28mself\u001b[39m\u001b[38;5;241m.\u001b[39minit_lattice()\n",
      "Input \u001b[1;32mIn [4]\u001b[0m, in \u001b[0;36mlat_2d.oneionstep\u001b[1;34m(self, i)\u001b[0m\n\u001b[0;32m     66\u001b[0m \u001b[38;5;28;01mdef\u001b[39;00m \u001b[38;5;21moneionstep\u001b[39m(\u001b[38;5;28mself\u001b[39m,i):\n\u001b[0;32m     68\u001b[0m     MOVES\u001b[38;5;241m=\u001b[39m[(\u001b[38;5;241m1\u001b[39m,\u001b[38;5;241m0\u001b[39m),(\u001b[38;5;241m0\u001b[39m,\u001b[38;5;241m1\u001b[39m),(\u001b[38;5;241m-\u001b[39m\u001b[38;5;241m1\u001b[39m,\u001b[38;5;241m0\u001b[39m),(\u001b[38;5;241m0\u001b[39m,\u001b[38;5;241m-\u001b[39m\u001b[38;5;241m1\u001b[39m)]\n\u001b[1;32m---> 69\u001b[0m     s\u001b[38;5;241m=\u001b[39mnp\u001b[38;5;241m.\u001b[39marray(MOVES[\u001b[43mnp\u001b[49m\u001b[38;5;241;43m.\u001b[39;49m\u001b[43mrandom\u001b[49m\u001b[38;5;241;43m.\u001b[39;49m\u001b[43mchoice\u001b[49m\u001b[43m(\u001b[49m\u001b[43m[\u001b[49m\u001b[38;5;241;43m0\u001b[39;49m\u001b[43m,\u001b[49m\u001b[38;5;241;43m1\u001b[39;49m\u001b[43m,\u001b[49m\u001b[38;5;241;43m2\u001b[39;49m\u001b[43m,\u001b[49m\u001b[38;5;241;43m3\u001b[39;49m\u001b[43m]\u001b[49m\u001b[43m)\u001b[49m]) \u001b[38;5;66;03m# s is an array but class.pos is a tuple, so we add them by converting pos into ndarray and then revert it back to tuple\u001b[39;00m\n\u001b[0;32m     70\u001b[0m    \u001b[38;5;66;03m# print(\"U: \",s, i)\u001b[39;00m\n\u001b[0;32m     73\u001b[0m     latposn\u001b[38;5;241m=\u001b[39m\u001b[38;5;28mself\u001b[39m\u001b[38;5;241m.\u001b[39mmappostolat(s,i)\n",
      "\u001b[1;31mKeyboardInterrupt\u001b[0m: "
     ]
    }
   ],
   "source": [
    "today=date.today()\n",
    "coverage=[]\n",
    "#coverage=[ 17 + 2*i for i in range( 8 )]\n",
    "for cov in coverage:\n",
    "    day=today.strftime(\"%B-%d-%Y\")\n",
    "    fname=f\"simdata\\\\Simrun-6\\Coverage-{cov}-NSTEPS{NSTEPS}-{day}.txt\"\n",
    "    with open(fname,'w+') as fhand: \n",
    "        mylat=lat_2d(N,cov/100,epsilon)\n",
    "        mylat.init_lattice()\n",
    "        mylat.init_energylattice()\n",
    "        NIONS=len(mylat.ions)\n",
    "        fhand.write(f\"Created:{day} \\n\")\n",
    "        fhand.write(f\"Coverage:{cov} \\n\")\n",
    "        fhand.write(f\"N:{N} \\n\")\n",
    "        fhand.write(f\"NUM-IONS:{NIONS} \\n\")\n",
    "        fhand.write(f\"NSTEPS:{NSTEPS} \\n\")\n",
    "        fhand.write(f\"WRITE-PERIODICITY:{WT} \\n\")\n",
    "        fhand.write(f\"epsilon:{epsilon} \\n\")\n",
    "        for i,step in enumerate(range(NSTEPS)):\n",
    "            mylat.onemcstep()\n",
    "            if i%WT==0 and i>equilibriation:\n",
    "                for io in mylat.ions:\n",
    "                    fhand.write(f\"{io.pos[0]}  {io.pos[1]} \\n\")"
   ]
  },
  {
   "cell_type": "code",
   "execution_count": 17,
   "id": "17e7be0a",
   "metadata": {},
   "outputs": [
    {
     "data": {
      "text/plain": [
       "[17, 19, 21, 23, 25, 27, 29, 31]"
      ]
     },
     "execution_count": 17,
     "metadata": {},
     "output_type": "execute_result"
    }
   ],
   "source": [
    "coverage"
   ]
  },
  {
   "cell_type": "code",
   "execution_count": 19,
   "id": "972d0efa",
   "metadata": {},
   "outputs": [
    {
     "ename": "KeyError",
     "evalue": "19",
     "output_type": "error",
     "traceback": [
      "\u001b[1;31m---------------------------------------------------------------------------\u001b[0m",
      "\u001b[1;31mKeyError\u001b[0m                                  Traceback (most recent call last)",
      "Input \u001b[1;32mIn [19]\u001b[0m, in \u001b[0;36m<cell line: 1>\u001b[1;34m()\u001b[0m\n\u001b[0;32m      1\u001b[0m \u001b[38;5;28;01mfor\u001b[39;00m cov \u001b[38;5;129;01min\u001b[39;00m coverage:\n\u001b[1;32m----> 2\u001b[0m     value\u001b[38;5;241m=\u001b[39m\u001b[43mMSDS_\u001b[49m\u001b[43m[\u001b[49m\u001b[43mcov\u001b[49m\u001b[43m]\u001b[49m\n\u001b[0;32m      3\u001b[0m     plt\u001b[38;5;241m.\u001b[39mplot(steps,value,label\u001b[38;5;241m=\u001b[39m\u001b[38;5;124mf\u001b[39m\u001b[38;5;124m'\u001b[39m\u001b[38;5;124mCoverage:\u001b[39m\u001b[38;5;132;01m{\u001b[39;00mcov\u001b[38;5;132;01m}\u001b[39;00m\u001b[38;5;124m'\u001b[39m\u001b[38;5;241m.\u001b[39msplit()[\u001b[38;5;241m0\u001b[39m],linestyle\u001b[38;5;241m=\u001b[39m\u001b[38;5;124m'\u001b[39m\u001b[38;5;124m--\u001b[39m\u001b[38;5;124m'\u001b[39m,marker\u001b[38;5;241m=\u001b[39m\u001b[38;5;124m'\u001b[39m\u001b[38;5;124mx\u001b[39m\u001b[38;5;124m'\u001b[39m)\n\u001b[0;32m      5\u001b[0m plt\u001b[38;5;241m.\u001b[39mxlabel(\u001b[38;5;124mr\u001b[39m\u001b[38;5;124m'\u001b[39m\u001b[38;5;124mTime Step $\u001b[39m\u001b[38;5;124m\\\u001b[39m\u001b[38;5;124mto$\u001b[39m\u001b[38;5;124m'\u001b[39m)\n",
      "\u001b[1;31mKeyError\u001b[0m: 19"
     ]
    },
    {
     "data": {
      "image/png": "[encoded data removed]",
      "text/plain": [
       "<Figure size 432x288 with 1 Axes>"
      ]
     },
     "metadata": {
      "needs_background": "light"
     },
     "output_type": "display_data"
    }
   ],
   "source": [
    "\n",
    "for cov in coverage:\n",
    "    value=MSDS_[cov]\n",
    "    plt.plot(steps,value,label=f'Coverage:{cov}'.split()[0],linestyle='--',marker='x')\n",
    "    \n",
    "plt.xlabel(r'Time Step $\\to$')\n",
    "plt.title('MSD(Time Origin) vs Time Step')\n",
    "plt.ylabel(r'MSD $\\to$')\n",
    "plt.legend()\n",
    "plt.grid()\n",
    "plt.show()"
   ]
  },
  {
   "cell_type": "code",
   "execution_count": 18,
   "id": "1f0bdb38",
   "metadata": {},
   "outputs": [
    {
     "name": "stdout",
     "output_type": "stream",
     "text": [
      "simdata\\Simrun-6\\Coverage-10-NSTEPS15000-October-13-2022.txt\n",
      "25\n",
      "_______________________\n",
      "10 \n",
      " simdata\\Simrun-6\\Coverage-10-NSTEPS15000-October-13-2022.txt\n",
      "simdata\\Simrun-6\\Coverage-16-NSTEPS15000-October-13-2022.txt\n",
      "25\n",
      "_______________________\n",
      "16 \n",
      " simdata\\Simrun-6\\Coverage-16-NSTEPS15000-October-13-2022.txt\n",
      "simdata\\Simrun-6\\Coverage-17-NSTEPS15000-October-13-2022.txt\n",
      "25\n",
      "_______________________\n",
      "17 \n",
      " simdata\\Simrun-6\\Coverage-17-NSTEPS15000-October-13-2022.txt\n",
      "simdata\\Simrun-6\\Coverage-17-NSTEPS15000-October-14-2022.txt\n",
      "25\n"
     ]
    },
    {
     "name": "stderr",
     "output_type": "stream",
     "text": [
      "C:\\YSZ-Monte-Carlo\\himanshusingh\\PARSER_MSD.py:29: UserWarning: loadtxt: input contained no data: \"simdata\\Simrun-6\\Coverage-17-NSTEPS15000-October-14-2022.txt\"\n",
      "  ndarray=np.loadtxt(fname,skiprows=paramlen)\n"
     ]
    },
    {
     "ename": "AxisError",
     "evalue": "axis 1 is out of bounds for array of dimension 1",
     "output_type": "error",
     "traceback": [
      "\u001b[1;31m---------------------------------------------------------------------------\u001b[0m",
      "\u001b[1;31mAxisError\u001b[0m                                 Traceback (most recent call last)",
      "Input \u001b[1;32mIn [18]\u001b[0m, in \u001b[0;36m<cell line: 4>\u001b[1;34m()\u001b[0m\n\u001b[0;32m      9\u001b[0m params\u001b[38;5;241m=\u001b[39mgetrunparams(fname,paramlen)\n\u001b[0;32m     10\u001b[0m narray\u001b[38;5;241m=\u001b[39mgetnparray(fname,params,paramlen)\n\u001b[1;32m---> 11\u001b[0m MSDS_[\u001b[38;5;28mint\u001b[39m(\u001b[38;5;28mfloat\u001b[39m(params[\u001b[38;5;124m'\u001b[39m\u001b[38;5;124mCoverage\u001b[39m\u001b[38;5;124m'\u001b[39m]\u001b[38;5;241m.\u001b[39msplit()[\u001b[38;5;241m0\u001b[39m]))]\u001b[38;5;241m=\u001b[39mnp\u001b[38;5;241m.\u001b[39marray(\u001b[43mtime_msd\u001b[49m\u001b[43m(\u001b[49m\u001b[43mnarray\u001b[49m\u001b[43m,\u001b[49m\u001b[43mfname\u001b[49m\u001b[43m,\u001b[49m\u001b[43mparamlen\u001b[49m\u001b[43m)\u001b[49m)\n",
      "File \u001b[1;32mC:\\YSZ-Monte-Carlo\\himanshusingh\\PARSER_MSD.py:63\u001b[0m, in \u001b[0;36mtime_msd\u001b[1;34m(traj, fname, paramlen, EQUILIBIRIATION)\u001b[0m\n\u001b[0;32m     60\u001b[0m \u001b[38;5;28;01mfor\u001b[39;00m n \u001b[38;5;129;01min\u001b[39;00m \u001b[38;5;28mrange\u001b[39m(\u001b[38;5;241m1\u001b[39m,tau\u001b[38;5;241m+\u001b[39m\u001b[38;5;241m1\u001b[39m):\n\u001b[0;32m     61\u001b[0m     disp_sq_comp\u001b[38;5;241m=\u001b[39m(traj[n\u001b[38;5;241m*\u001b[39ms::]\u001b[38;5;241m-\u001b[39mtraj[:\u001b[38;5;241m-\u001b[39mn\u001b[38;5;241m*\u001b[39ms:])\u001b[38;5;241m*\u001b[39m(traj[n\u001b[38;5;241m*\u001b[39ms::]\u001b[38;5;241m-\u001b[39mtraj[:\u001b[38;5;241m-\u001b[39mn\u001b[38;5;241m*\u001b[39ms:]) \u001b[38;5;66;03m#traj[:-n:,1:] means that we slice till (lastelement-n)th element  \u001b[39;00m\n\u001b[1;32m---> 63\u001b[0m     disp\u001b[38;5;241m=\u001b[39m\u001b[43mnp\u001b[49m\u001b[38;5;241;43m.\u001b[39;49m\u001b[43msum\u001b[49m\u001b[43m(\u001b[49m\u001b[43mdisp_sq_comp\u001b[49m\u001b[43m,\u001b[49m\u001b[43maxis\u001b[49m\u001b[38;5;241;43m=\u001b[39;49m\u001b[38;5;241;43m1\u001b[39;49m\u001b[43m)\u001b[49m \n\u001b[0;32m     65\u001b[0m     MSD\u001b[38;5;241m=\u001b[39mnp\u001b[38;5;241m.\u001b[39mmean(disp)\n\u001b[0;32m     66\u001b[0m     \u001b[38;5;66;03m#print(n,\":\",MSD)\u001b[39;00m\n",
      "File \u001b[1;32m<__array_function__ internals>:180\u001b[0m, in \u001b[0;36msum\u001b[1;34m(*args, **kwargs)\u001b[0m\n",
      "File \u001b[1;32m~\\AppData\\Local\\Programs\\Python\\Python310\\lib\\site-packages\\numpy\\core\\fromnumeric.py:2298\u001b[0m, in \u001b[0;36msum\u001b[1;34m(a, axis, dtype, out, keepdims, initial, where)\u001b[0m\n\u001b[0;32m   2295\u001b[0m         \u001b[38;5;28;01mreturn\u001b[39;00m out\n\u001b[0;32m   2296\u001b[0m     \u001b[38;5;28;01mreturn\u001b[39;00m res\n\u001b[1;32m-> 2298\u001b[0m \u001b[38;5;28;01mreturn\u001b[39;00m \u001b[43m_wrapreduction\u001b[49m\u001b[43m(\u001b[49m\u001b[43ma\u001b[49m\u001b[43m,\u001b[49m\u001b[43m \u001b[49m\u001b[43mnp\u001b[49m\u001b[38;5;241;43m.\u001b[39;49m\u001b[43madd\u001b[49m\u001b[43m,\u001b[49m\u001b[43m \u001b[49m\u001b[38;5;124;43m'\u001b[39;49m\u001b[38;5;124;43msum\u001b[39;49m\u001b[38;5;124;43m'\u001b[39;49m\u001b[43m,\u001b[49m\u001b[43m \u001b[49m\u001b[43maxis\u001b[49m\u001b[43m,\u001b[49m\u001b[43m \u001b[49m\u001b[43mdtype\u001b[49m\u001b[43m,\u001b[49m\u001b[43m \u001b[49m\u001b[43mout\u001b[49m\u001b[43m,\u001b[49m\u001b[43m \u001b[49m\u001b[43mkeepdims\u001b[49m\u001b[38;5;241;43m=\u001b[39;49m\u001b[43mkeepdims\u001b[49m\u001b[43m,\u001b[49m\n\u001b[0;32m   2299\u001b[0m \u001b[43m                      \u001b[49m\u001b[43minitial\u001b[49m\u001b[38;5;241;43m=\u001b[39;49m\u001b[43minitial\u001b[49m\u001b[43m,\u001b[49m\u001b[43m \u001b[49m\u001b[43mwhere\u001b[49m\u001b[38;5;241;43m=\u001b[39;49m\u001b[43mwhere\u001b[49m\u001b[43m)\u001b[49m\n",
      "File \u001b[1;32m~\\AppData\\Local\\Programs\\Python\\Python310\\lib\\site-packages\\numpy\\core\\fromnumeric.py:86\u001b[0m, in \u001b[0;36m_wrapreduction\u001b[1;34m(obj, ufunc, method, axis, dtype, out, **kwargs)\u001b[0m\n\u001b[0;32m     83\u001b[0m         \u001b[38;5;28;01melse\u001b[39;00m:\n\u001b[0;32m     84\u001b[0m             \u001b[38;5;28;01mreturn\u001b[39;00m reduction(axis\u001b[38;5;241m=\u001b[39maxis, out\u001b[38;5;241m=\u001b[39mout, \u001b[38;5;241m*\u001b[39m\u001b[38;5;241m*\u001b[39mpasskwargs)\n\u001b[1;32m---> 86\u001b[0m \u001b[38;5;28;01mreturn\u001b[39;00m ufunc\u001b[38;5;241m.\u001b[39mreduce(obj, axis, dtype, out, \u001b[38;5;241m*\u001b[39m\u001b[38;5;241m*\u001b[39mpasskwargs)\n",
      "\u001b[1;31mAxisError\u001b[0m: axis 1 is out of bounds for array of dimension 1"
     ]
    }
   ],
   "source": [
    "MSDS_=dict()\n",
    "paramlen=7\n",
    "steps=np.arange(0*100,(Ns//4),wp) \n",
    "for i,dire in enumerate(sorted(glob.glob('simdata\\\\Simrun-6'))):\n",
    "    names=glob.glob(f'{dire}\\\\*.txt')#COVERAGE-*-NSTEPS*-*\n",
    "    #print(i,'\\n',names)\n",
    "    for fname in names:\n",
    "        print(fname)\n",
    "        params=getrunparams(fname,paramlen)\n",
    "        narray=getnparray(fname,params,paramlen)\n",
    "        MSDS_[int(float(params['Coverage'].split()[0]))]=np.array(time_msd(narray,fname,paramlen))\n"
   ]
  },
  {
   "cell_type": "code",
   "execution_count": 36,
   "id": "58f9723f",
   "metadata": {},
   "outputs": [
    {
     "data": {
      "image/png": "[encoded data removed]",
      "text/plain": [
       "<Figure size 432x288 with 1 Axes>"
      ]
     },
     "metadata": {
      "needs_background": "light"
     },
     "output_type": "display_data"
    }
   ],
   "source": [
    "for cov in coverage:\n",
    "    value=MSDS_[cov]\n",
    "    plt.plot(steps,value,label=f'Coverage:{cov}'.split()[0],linestyle='--',marker='>')\n",
    "    \n",
    "plt.xlabel(r'Time Step $\\to$')\n",
    "plt.title('MSD(Time Origin) vs Time Step')\n",
    "plt.ylabel(r'MSD $\\to$')\n",
    "plt.legend()\n",
    "plt.grid()\n",
    "plt.savefig(f'diffusivitypeak.jpg',bbox_inches='tight',dpi=300)\n",
    "\n",
    "plt.show()"
   ]
  },
  {
   "cell_type": "code",
   "execution_count": null,
   "id": "1a2afb34",
   "metadata": {},
   "outputs": [],
   "source": []
  }
 ],
 "metadata": {
  "kernelspec": {
   "display_name": "Python 3 (ipykernel)",
   "language": "python",
   "name": "python3"
  },
  "language_info": {
   "codemirror_mode": {
    "name": "ipython",
    "version": 3
   },
   "file_extension": ".py",
   "mimetype": "text/x-python",
   "name": "python",
   "nbconvert_exporter": "python",
   "pygments_lexer": "ipython3",
   "version": "3.10.5"
  }
 },
 "nbformat": 4,
 "nbformat_minor": 5
}
