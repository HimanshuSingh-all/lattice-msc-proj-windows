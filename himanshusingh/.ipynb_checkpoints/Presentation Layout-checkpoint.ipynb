{
 "cells": [
  {
   "cell_type": "markdown",
   "id": "7c9d2cbe",
   "metadata": {},
   "source": [
    "* # <u> Motivation Behind the Project </u>\n",
    "In this highly energy reliant world,  where we need to get energy and more importantly need a better and efficient way of storing that energy. Fuel cells have been at the forefrot of this. We must invest in ways to improve these devices.  \n",
    "\n",
    "    One variety of the fuel cells are called Solid Oxide Fuel Cells, which are popular due to their power efficiency, low emmisions and low cost. Yttria Stabilised Zirconia (YSZ) is one of those and is of particular interest.\n",
    "    \n",
    "    A lot of Molecular Dynamics studies have been done on the ion transport mechanism in YSZ, but here we will explore a Monte-Carlo approach to this ion transport problem, although in a 2-D plane\n",
    "\n",
    "* # <u> Sampling </u>\n",
    "    * Importance of Good Random Numbers, maybe include the plot to show the lack of correlation between the random numbers sequence\n",
    "* # <u> Monte Carlo Simulation </u>\n",
    "\n",
    "    * # <u> Metropolis Algorithm </u>\n",
    "\n",
    "  ___\n",
    "  * # <u> Initial Setup </u>\n",
    "      <img src=\"plots/cov30.png\" style=\"width:300px; height:200px\">\n",
    "\n",
    "    * #### Why Use Periodic Boundary Conditions? \n",
    "    <img src=\"https://pythoninchemistry.org/sim_and_scat/images/pbc.png\" style=\"width:200px; height:200px\">\n",
    "    *\n",
    "\n",
    "\n",
    "* # <u>Two Competing Processes with Creation of Vacancies</u>\n",
    "  * #### <u> Lesser \"Collision\" Situations During Hopping of Ion </u> \n",
    "  \n",
    "If there are a lot of vacancies, that means there are a lot of sites for the ions to jump to, that means the hop move is less likely to face a \"collision\" if there are large number of vacancies\n",
    " ##### MSD of Simulation Run With No Energy Penalties Applied   \n",
    "   ![Site Energy](plots/Figure_1.png)\n",
    "                                            \n",
    "\n",
    "\n",
    "\n",
    "  * #### <u> Increase of Site Energies </u> \n",
    "  The competing prcess to more less probability of collision is the introduction of site energies as the vacancies increase, this situation happens in YSZ as we substitute $$ Y^{3+}$$ by $$ Zr^{4+}$$ an increase in site energy in the center of tetrahedron where oxygen ion resides. This makes hops form low energy sites to high energy sites \n",
    "  \n",
    "<img src=\"plots/image2.png\" style=\"width:600px; height:600px\">\n",
    "\n"
   ]
  },
  {
   "cell_type": "markdown",
   "id": "dd34ebe8",
   "metadata": {},
   "source": []
  },
  {
   "cell_type": "markdown",
   "id": "bca98b3c",
   "metadata": {},
   "source": [
    "* # <u> Initial Setup </u>\n",
    "\n",
    "    * # <u> Why Use Periodic Boundary Conditions? </u>\n",
    "    *\n"
   ]
  },
  {
   "cell_type": "markdown",
   "id": "9b0087c7",
   "metadata": {},
   "source": []
  },
  {
   "cell_type": "code",
   "execution_count": null,
   "id": "9d7095dc",
   "metadata": {},
   "outputs": [],
   "source": []
  }
 ],
 "metadata": {
  "kernelspec": {
   "display_name": "Python 3 (ipykernel)",
   "language": "python",
   "name": "python3"
  },
  "language_info": {
   "codemirror_mode": {
    "name": "ipython",
    "version": 3
   },
   "file_extension": ".py",
   "mimetype": "text/x-python",
   "name": "python",
   "nbconvert_exporter": "python",
   "pygments_lexer": "ipython3",
   "version": "3.10.5"
  }
 },
 "nbformat": 4,
 "nbformat_minor": 5
}
