{
 "cells": [
  {
   "cell_type": "markdown",
   "id": "8ae0f286",
   "metadata": {},
   "source": [
    "# Analysis of Dataset-6"
   ]
  },
  {
   "cell_type": "code",
   "execution_count": 4,
   "id": "fa805ca8",
   "metadata": {},
   "outputs": [],
   "source": [
    "import matplotlib.pyplot as plt \n",
    "import numpy as np\n",
    "import glob\n",
    "from PARSER_MSD import ensemble_sqavg,getnparray ,getrunparams, time_msd \n",
    "from scipy import stats "
   ]
  },
  {
   "cell_type": "code",
   "execution_count": 5,
   "id": "3f9d5793",
   "metadata": {},
   "outputs": [
    {
     "data": {
      "text/plain": [
       "[10,\n",
       " 16,\n",
       " 17,\n",
       " 18,\n",
       " 19,\n",
       " 20,\n",
       " 21,\n",
       " 22,\n",
       " 23,\n",
       " 24,\n",
       " 25,\n",
       " 26,\n",
       " 27,\n",
       " 28,\n",
       " 29,\n",
       " 30,\n",
       " 31,\n",
       " 40,\n",
       " 50,\n",
       " 60,\n",
       " 70,\n",
       " 80,\n",
       " 90]"
      ]
     },
     "execution_count": 5,
     "metadata": {},
     "output_type": "execute_result"
    }
   ],
   "source": [
    "coverage=[ 16 + i for i in range( 16 )]\n",
    "coverage=[ 10 ]  + coverage + [ 40, 50 , 60, 70, 80,90]\n",
    "coverage"
   ]
  },
  {
   "cell_type": "code",
   "execution_count": 6,
   "id": "96b8c22c",
   "metadata": {},
   "outputs": [],
   "source": [
    "N=20\n",
    "NSTEPS=15000\n",
    "wp=100\n",
    "epsilon=2223/1300\n",
    "equilibriation=5000\n",
    "Ns=NSTEPS-equilibriation"
   ]
  },
  {
   "cell_type": "code",
   "execution_count": 7,
   "id": "2a25c133",
   "metadata": {},
   "outputs": [
    {
     "name": "stdout",
     "output_type": "stream",
     "text": [
      "simdata\\Simrun-6\\Coverage-10-NSTEPS15000-October-13-2022.txt\n",
      "25\n",
      "_______________________\n",
      "10 \n",
      " simdata\\Simrun-6\\Coverage-10-NSTEPS15000-October-13-2022.txt\n",
      "simdata\\Simrun-6\\Coverage-16-NSTEPS15000-October-13-2022.txt\n",
      "25\n",
      "_______________________\n",
      "16 \n",
      " simdata\\Simrun-6\\Coverage-16-NSTEPS15000-October-13-2022.txt\n",
      "simdata\\Simrun-6\\Coverage-17-NSTEPS15000-October-13-2022.txt\n",
      "25\n",
      "_______________________\n",
      "17 \n",
      " simdata\\Simrun-6\\Coverage-17-NSTEPS15000-October-13-2022.txt\n",
      "simdata\\Simrun-6\\Coverage-18-NSTEPS15000-October-13-2022.txt\n",
      "25\n",
      "_______________________\n",
      "18 \n",
      " simdata\\Simrun-6\\Coverage-18-NSTEPS15000-October-13-2022.txt\n",
      "simdata\\Simrun-6\\Coverage-19-NSTEPS15000-October-13-2022.txt\n",
      "25\n",
      "_______________________\n",
      "19 \n",
      " simdata\\Simrun-6\\Coverage-19-NSTEPS15000-October-13-2022.txt\n",
      "simdata\\Simrun-6\\Coverage-20-NSTEPS15000-October-13-2022.txt\n",
      "25\n",
      "_______________________\n",
      "20 \n",
      " simdata\\Simrun-6\\Coverage-20-NSTEPS15000-October-13-2022.txt\n",
      "simdata\\Simrun-6\\Coverage-21-NSTEPS15000-October-13-2022.txt\n",
      "25\n",
      "_______________________\n",
      "21 \n",
      " simdata\\Simrun-6\\Coverage-21-NSTEPS15000-October-13-2022.txt\n",
      "simdata\\Simrun-6\\Coverage-22-NSTEPS15000-October-13-2022.txt\n",
      "25\n",
      "_______________________\n",
      "22 \n",
      " simdata\\Simrun-6\\Coverage-22-NSTEPS15000-October-13-2022.txt\n",
      "simdata\\Simrun-6\\Coverage-23-NSTEPS15000-October-13-2022.txt\n",
      "25\n",
      "_______________________\n",
      "23 \n",
      " simdata\\Simrun-6\\Coverage-23-NSTEPS15000-October-13-2022.txt\n",
      "simdata\\Simrun-6\\Coverage-24-NSTEPS15000-October-13-2022.txt\n",
      "25\n",
      "_______________________\n",
      "24 \n",
      " simdata\\Simrun-6\\Coverage-24-NSTEPS15000-October-13-2022.txt\n",
      "simdata\\Simrun-6\\Coverage-25-NSTEPS15000-October-13-2022.txt\n",
      "25\n",
      "_______________________\n",
      "25 \n",
      " simdata\\Simrun-6\\Coverage-25-NSTEPS15000-October-13-2022.txt\n",
      "simdata\\Simrun-6\\Coverage-26-NSTEPS15000-October-13-2022.txt\n",
      "25\n",
      "_______________________\n",
      "26 \n",
      " simdata\\Simrun-6\\Coverage-26-NSTEPS15000-October-13-2022.txt\n",
      "simdata\\Simrun-6\\Coverage-27-NSTEPS15000-October-13-2022.txt\n",
      "25\n",
      "_______________________\n",
      "27 \n",
      " simdata\\Simrun-6\\Coverage-27-NSTEPS15000-October-13-2022.txt\n",
      "simdata\\Simrun-6\\Coverage-28-NSTEPS15000-October-13-2022.txt\n",
      "25\n",
      "_______________________\n",
      "28 \n",
      " simdata\\Simrun-6\\Coverage-28-NSTEPS15000-October-13-2022.txt\n",
      "simdata\\Simrun-6\\Coverage-29-NSTEPS15000-October-13-2022.txt\n",
      "25\n",
      "_______________________\n",
      "29 \n",
      " simdata\\Simrun-6\\Coverage-29-NSTEPS15000-October-13-2022.txt\n",
      "simdata\\Simrun-6\\Coverage-30-NSTEPS15000-October-13-2022.txt\n",
      "25\n",
      "_______________________\n",
      "30 \n",
      " simdata\\Simrun-6\\Coverage-30-NSTEPS15000-October-13-2022.txt\n",
      "simdata\\Simrun-6\\Coverage-31-NSTEPS15000-October-13-2022.txt\n",
      "25\n",
      "_______________________\n",
      "31 \n",
      " simdata\\Simrun-6\\Coverage-31-NSTEPS15000-October-13-2022.txt\n",
      "simdata\\Simrun-6\\Coverage-40-NSTEPS15000-October-13-2022.txt\n",
      "25\n",
      "_______________________\n",
      "40 \n",
      " simdata\\Simrun-6\\Coverage-40-NSTEPS15000-October-13-2022.txt\n",
      "simdata\\Simrun-6\\Coverage-50-NSTEPS15000-October-13-2022.txt\n",
      "25\n",
      "_______________________\n",
      "50 \n",
      " simdata\\Simrun-6\\Coverage-50-NSTEPS15000-October-13-2022.txt\n",
      "simdata\\Simrun-6\\Coverage-60-NSTEPS15000-October-13-2022.txt\n",
      "25\n",
      "_______________________\n",
      "60 \n",
      " simdata\\Simrun-6\\Coverage-60-NSTEPS15000-October-13-2022.txt\n",
      "simdata\\Simrun-6\\Coverage-70-NSTEPS15000-October-13-2022.txt\n",
      "25\n",
      "_______________________\n",
      "70 \n",
      " simdata\\Simrun-6\\Coverage-70-NSTEPS15000-October-13-2022.txt\n",
      "simdata\\Simrun-6\\Coverage-80-NSTEPS15000-October-13-2022.txt\n",
      "25\n",
      "_______________________\n",
      "80 \n",
      " simdata\\Simrun-6\\Coverage-80-NSTEPS15000-October-13-2022.txt\n",
      "simdata\\Simrun-6\\Coverage-90-NSTEPS15000-October-13-2022.txt\n",
      "25\n",
      "_______________________\n",
      "90 \n",
      " simdata\\Simrun-6\\Coverage-90-NSTEPS15000-October-13-2022.txt\n"
     ]
    }
   ],
   "source": [
    "MSDS_=dict()\n",
    "paramlen=7\n",
    "steps=np.arange(0*100,(Ns//4),wp) \n",
    "for i,dire in enumerate(sorted(glob.glob('simdata\\\\Simrun-6'))):\n",
    "    names=glob.glob(f'{dire}\\\\*.txt')#COVERAGE-*-NSTEPS*-*\n",
    "    #print(i,'\\n',names)\n",
    "    for fname in names:\n",
    "        print(fname)\n",
    "        params=getrunparams(fname,paramlen)\n",
    "        narray=getnparray(fname,params,paramlen)\n",
    "        MSDS_[int(float(params['Coverage'].split()[0]))]=np.array(time_msd(narray,fname,paramlen))"
   ]
  },
  {
   "cell_type": "code",
   "execution_count": null,
   "id": "41d76f98",
   "metadata": {},
   "outputs": [],
   "source": []
  },
  {
   "cell_type": "code",
   "execution_count": 8,
   "id": "27b76bff",
   "metadata": {},
   "outputs": [
    {
     "name": "stderr",
     "output_type": "stream",
     "text": [
      "No artists with labels found to put in legend.  Note that artists whose label start with an underscore are ignored when legend() is called with no argument.\n"
     ]
    },
    {
     "data": {
      "image/png": "[encoded data removed]",
      "text/plain": [
       "<Figure size 432x288 with 1 Axes>"
      ]
     },
     "metadata": {
      "needs_background": "light"
     },
     "output_type": "display_data"
    }
   ],
   "source": [
    "slp=[]\n",
    "for cov in coverage:\n",
    "    value=stats.linregress(steps,MSDS_[cov])\n",
    "    slp.append( value.slope/4 )\n",
    "\n",
    "\n",
    "coverage = np.array( coverage )\n",
    "vacancies = 100 -np.array( coverage )\n",
    "plt.plot( vacancies , slp , linestyle='--' , marker=\">\", color='red' )\n",
    "plt.xlabel(r'Vacancies (%) $\\to$')\n",
    "plt.title(' Diffusivity vs Vacancies(%) ')\n",
    "plt.ylabel(r'Diffusivty $\\to$')\n",
    "plt.legend()\n",
    "plt.savefig(f'DvsVacanies{simrun}.jpg',bbox_inches='tight',dpi=300)\n",
    "plt.show()"
   ]
  },
  {
   "cell_type": "code",
   "execution_count": null,
   "id": "1c8742fa",
   "metadata": {},
   "outputs": [],
   "source": []
  }
 ],
 "metadata": {
  "kernelspec": {
   "display_name": "Python 3 (ipykernel)",
   "language": "python",
   "name": "python3"
  },
  "language_info": {
   "codemirror_mode": {
    "name": "ipython",
    "version": 3
   },
   "file_extension": ".py",
   "mimetype": "text/x-python",
   "name": "python",
   "nbconvert_exporter": "python",
   "pygments_lexer": "ipython3",
   "version": "3.10.5"
  }
 },
 "nbformat": 4,
 "nbformat_minor": 5
}
